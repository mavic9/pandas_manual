{
 "cells": [
  {
   "cell_type": "markdown",
   "id": "c7f2c8ac",
   "metadata": {},
   "source": [
    "1. Создать одномерный массив Numpy под названием a из 12 последовательных целых чисел чисел от 12 до 24 невключительно"
   ]
  },
  {
   "cell_type": "code",
   "execution_count": 3,
   "id": "0dce50fe",
   "metadata": {},
   "outputs": [
    {
     "name": "stdout",
     "output_type": "stream",
     "text": [
      "[12 13 14 15 16 17 18 19 20 21 22 23]\n"
     ]
    }
   ],
   "source": [
    "import numpy as np\n",
    "\n",
    "a = np.arange(12, 24, 1)\n",
    "print(a)"
   ]
  },
  {
   "cell_type": "markdown",
   "id": "b79b3a2c",
   "metadata": {},
   "source": [
    "2. Создать 5 двумерных массивов разной формы из массива a. Не использовать в аргументах метода reshape число -1."
   ]
  },
  {
   "cell_type": "code",
   "execution_count": 5,
   "id": "cc2fdd0f",
   "metadata": {},
   "outputs": [
    {
     "name": "stdout",
     "output_type": "stream",
     "text": [
      "Размерность a1: 2\n",
      "Размерность a2: 2\n",
      "Размерность a3: 2\n",
      "Размерность a4: 2\n",
      "Размерность a5: 2\n"
     ]
    }
   ],
   "source": [
    "a1 = a.reshape(3, 4)\n",
    "a2 = a.reshape(2, 6)\n",
    "a3 = a.reshape(6, 2)\n",
    "a4 = a.reshape(4, 3)\n",
    "a5 = a.reshape(1, 12)\n",
    "\n",
    "print(\"Размерность a1: {}\".format(a1.ndim))\n",
    "print(\"Размерность a2: {}\".format(a2.ndim))\n",
    "print(\"Размерность a3: {}\".format(a3.ndim))\n",
    "print(\"Размерность a4: {}\".format(a4.ndim))\n",
    "print(\"Размерность a5: {}\".format(a5.ndim))"
   ]
  },
  {
   "cell_type": "markdown",
   "id": "ca162cbc",
   "metadata": {},
   "source": [
    "3. Создать 5 двумерных массивов разной формы из массива a. Использовать в аргументах метода reshape число -1 (в трех примерах - для обозначения числа столбцов, в двух - для строк)."
   ]
  },
  {
   "cell_type": "code",
   "execution_count": 16,
   "id": "7f824953",
   "metadata": {},
   "outputs": [
    {
     "name": "stdout",
     "output_type": "stream",
     "text": [
      "Размерность a1: 2\n",
      "Размерность a2: 2\n",
      "Размерность a3: 2\n",
      "Размерность a4: 2\n",
      "Размерность a5: 2\n"
     ]
    }
   ],
   "source": [
    "a1 = a.reshape(2, -1)\n",
    "a2 = a.reshape(3, -1)\n",
    "a3 = a.reshape(12, -1)\n",
    "a4 = a.reshape(-1, 4)\n",
    "a5 = a.reshape(-1, 12)\n",
    "\n",
    "print(\"Размерность a1: {}\".format(a1.ndim))\n",
    "print(\"Размерность a2: {}\".format(a2.ndim))\n",
    "print(\"Размерность a3: {}\".format(a3.ndim))\n",
    "print(\"Размерность a4: {}\".format(a4.ndim))\n",
    "print(\"Размерность a5: {}\".format(a5.ndim))"
   ]
  },
  {
   "cell_type": "markdown",
   "id": "ff679fe4",
   "metadata": {},
   "source": [
    "4. Можно ли массив Numpy, состоящий из одного столбца и 12 строк, назвать одномерным?\n",
    "Ответ: Из-за внутренней структуры размерность такого массива равна 2."
   ]
  },
  {
   "cell_type": "code",
   "execution_count": 17,
   "id": "9e0ad8f2",
   "metadata": {},
   "outputs": [
    {
     "name": "stdout",
     "output_type": "stream",
     "text": [
      "[[12]\n",
      " [13]\n",
      " [14]\n",
      " [15]\n",
      " [16]\n",
      " [17]\n",
      " [18]\n",
      " [19]\n",
      " [20]\n",
      " [21]\n",
      " [22]\n",
      " [23]]\n",
      "Размерность a3: 2\n"
     ]
    }
   ],
   "source": [
    "print(a3)\n",
    "print(\"Размерность a3: {}\".format(a5.ndim))"
   ]
  },
  {
   "cell_type": "markdown",
   "id": "6473e155",
   "metadata": {},
   "source": [
    "5. Создать массив из 3 строк и 4 столбцов, состоящий из случайных чисел с плавающей запятой из нормального распределения со средним, равным 0 и среднеквадратичным отклонением, равным 1.0. Получить из этого массива одномерный массив с таким же атрибутом size, как и исходный массив."
   ]
  },
  {
   "cell_type": "code",
   "execution_count": 22,
   "id": "ec018a83",
   "metadata": {
    "scrolled": true
   },
   "outputs": [
    {
     "name": "stdout",
     "output_type": "stream",
     "text": [
      "[[-1.11918906  0.71418709 -0.20984384 -2.13648912]\n",
      " [ 0.05905328  1.3019928   1.11709824 -1.64489977]\n",
      " [ 1.15924325  0.44122828 -1.17068689  0.24046998]]\n",
      "[-1.11918906  0.71418709 -0.20984384 -2.13648912  0.05905328  1.3019928\n",
      "  1.11709824 -1.64489977  1.15924325  0.44122828 -1.17068689  0.24046998]\n",
      "True\n"
     ]
    }
   ],
   "source": [
    "import numpy.random as rd\n",
    "\n",
    "a = rd.randn(3, 4)\n",
    "print(a)\n",
    "\n",
    "b = a.flatten()\n",
    "print(b)\n",
    "\n",
    "print(a.size == b.size)"
   ]
  },
  {
   "cell_type": "markdown",
   "id": "1498ef61",
   "metadata": {},
   "source": [
    "6. Создать массив a, состоящий из целых чисел, убывающих от 20 до 0 невключительно с интервалом 2."
   ]
  },
  {
   "cell_type": "code",
   "execution_count": 25,
   "id": "39ca1bfc",
   "metadata": {},
   "outputs": [
    {
     "name": "stdout",
     "output_type": "stream",
     "text": [
      "[20 18 16 14 12 10  8  6  4  2]\n"
     ]
    }
   ],
   "source": [
    "a = np.arange(20, 0, -2)\n",
    "print(a)"
   ]
  },
  {
   "cell_type": "markdown",
   "id": "3ede3cfc",
   "metadata": {},
   "source": [
    "7. Создать массив b, состоящий из 1 строки и 10 столбцов: целых чисел, убывающих от 20 до 1 невключительно с интервалом 2. В чем разница между массивами a и b?"
   ]
  },
  {
   "cell_type": "code",
   "execution_count": 27,
   "id": "76708c9e",
   "metadata": {},
   "outputs": [
    {
     "name": "stdout",
     "output_type": "stream",
     "text": [
      "[20 18 16 14 12 10  8  6  4  2]\n"
     ]
    }
   ],
   "source": [
    "b = np.arange(20, 1, -2)\n",
    "print(b)"
   ]
  },
  {
   "cell_type": "markdown",
   "id": "8274faa5",
   "metadata": {},
   "source": [
    "Массивы a и b одинаковые."
   ]
  },
  {
   "cell_type": "markdown",
   "id": "df12e231",
   "metadata": {},
   "source": [
    "8. Вертикально соединить массивы a и b. a - двумерный массив из нулей, число строк которого больше 1 и на 1 меньше, чем число строк двумерного массива b, состоящего из единиц. Итоговый массив v должен иметь атрибут size, равный 10."
   ]
  },
  {
   "cell_type": "code",
   "execution_count": 34,
   "id": "eb1d75b6",
   "metadata": {},
   "outputs": [
    {
     "name": "stdout",
     "output_type": "stream",
     "text": [
      "[[0. 0.]\n",
      " [0. 0.]\n",
      " [0. 0.]\n",
      " [1. 1.]\n",
      " [1. 1.]]\n"
     ]
    }
   ],
   "source": [
    "a = np.zeros((3, 2))\n",
    "b = np.ones((2, 2))\n",
    "\n",
    "c = np.vstack((a, b))\n",
    "\n",
    "print(c)"
   ]
  },
  {
   "cell_type": "markdown",
   "id": "37730453",
   "metadata": {},
   "source": [
    "9. Создать одномерный массив а, состоящий из последовательности целых чисел от 0 до 12. Поменять форму этого массива, чтобы получилась матрица A (двумерный массив Numpy), состоящая из 4 строк и 3 столбцов. Получить матрицу At путем транспонирования матрицы A. Получить матрицу B, умножив матрицу A на матрицу At с помощью матричного умножения. Какой размер имеет матрица B? Получится ли вычислить обратную матрицу для матрицы B и почему?"
   ]
  },
  {
   "cell_type": "code",
   "execution_count": 57,
   "id": "682fdba9",
   "metadata": {},
   "outputs": [
    {
     "name": "stdout",
     "output_type": "stream",
     "text": [
      "Матрица A: \n",
      " [[ 0  1  2]\n",
      " [ 3  4  5]\n",
      " [ 6  7  8]\n",
      " [ 9 10 11]]\n",
      "\n",
      "Матрица At: \n",
      " [[ 0  3  6  9]\n",
      " [ 1  4  7 10]\n",
      " [ 2  5  8 11]]\n",
      "\n",
      "Матрица B: \n",
      " [[  5  14  23  32]\n",
      " [ 14  50  86 122]\n",
      " [ 23  86 149 212]\n",
      " [ 32 122 212 302]]\n",
      "\n",
      "16\n"
     ]
    }
   ],
   "source": [
    "from numpy.linalg import inv\n",
    "\n",
    "a = np.arange(0, 12, 1)\n",
    "A = a.reshape(4, 3).copy()\n",
    "print(f'Матрица A: \\n {A}\\n')\n",
    "\n",
    "At = np.transpose(A)\n",
    "print(f'Матрица At: \\n {At}\\n')\n",
    "\n",
    "B = np.dot(A, At)\n",
    "print(f'Матрица B: \\n {B}\\n')\n",
    "\n",
    "print(B.size)"
   ]
  },
  {
   "cell_type": "markdown",
   "id": "9d7e678e",
   "metadata": {},
   "source": [
    "Определитель матрицы B равен 0, следовательно, обратную матрицы вычислить невозможно."
   ]
  },
  {
   "cell_type": "code",
   "execution_count": 59,
   "id": "94e63087",
   "metadata": {},
   "outputs": [
    {
     "data": {
      "text/plain": [
       "0.0"
      ]
     },
     "execution_count": 59,
     "metadata": {},
     "output_type": "execute_result"
    }
   ],
   "source": [
    "np.linalg.det(B)"
   ]
  },
  {
   "cell_type": "markdown",
   "id": "5782b70a",
   "metadata": {},
   "source": [
    "10. Инициализируйте генератор случайных числе с помощью объекта seed, равного 42.\n"
   ]
  },
  {
   "cell_type": "code",
   "execution_count": 92,
   "id": "dbed7aec",
   "metadata": {},
   "outputs": [],
   "source": [
    "np.random.seed(42)"
   ]
  },
  {
   "cell_type": "markdown",
   "id": "99eb4712",
   "metadata": {},
   "source": [
    "11. Создайте одномерный массив c, составленный из последовательности 16-ти случайных равномерно распределенных целых чисел от 0 до 16 невключительно. \n"
   ]
  },
  {
   "cell_type": "code",
   "execution_count": 95,
   "id": "45b54a84",
   "metadata": {},
   "outputs": [
    {
     "name": "stdout",
     "output_type": "stream",
     "text": [
      "[ 3 12 14 10  7 12  4  6  9  2  6 10 10  7  4  3]\n"
     ]
    }
   ],
   "source": [
    "a = np.random.randint(0, 16, 16)\n",
    "print(a)"
   ]
  },
  {
   "cell_type": "markdown",
   "id": "f7e032d9",
   "metadata": {},
   "source": [
    "12. Поменяйте его форму так, чтобы получилась квадратная матрица C. Получите матрицу D, поэлементно прибавив матрицу B из предыдущего вопроса к матрице C, умноженной на 10. Вычислите определитель, ранг и обратную матрицу D_inv для D.\n"
   ]
  },
  {
   "cell_type": "code",
   "execution_count": 96,
   "id": "6f3b6e08",
   "metadata": {},
   "outputs": [
    {
     "name": "stdout",
     "output_type": "stream",
     "text": [
      "[[ 3 12 14 10]\n",
      " [ 7 12  4  6]\n",
      " [ 9  2  6 10]\n",
      " [10  7  4  3]]\n"
     ]
    }
   ],
   "source": [
    "C = a.reshape((4,4)).copy()\n",
    "print(C)"
   ]
  },
  {
   "cell_type": "code",
   "execution_count": 98,
   "id": "3da0ac61",
   "metadata": {
    "scrolled": false
   },
   "outputs": [
    {
     "name": "stdout",
     "output_type": "stream",
     "text": [
      "Матрица D: \n",
      " [[ 35 134 163 132]\n",
      " [ 84 170 126 182]\n",
      " [113 106 209 312]\n",
      " [132 192 252 332]]\n",
      "\n",
      "Определитель матрицы D: \n",
      " 21320000.000000034\n",
      "\n",
      "Обратная матрица D: \n",
      " [[-0.0421257  -0.04781989 -0.07423077  0.11272233]\n",
      " [ 0.00713133  0.01837899  0.00807692 -0.02050094]\n",
      " [-0.00235084 -0.03018386 -0.02807692  0.04386679]\n",
      " [ 0.01440901  0.03129456  0.04615385 -0.06324578]]\n",
      "\n"
     ]
    }
   ],
   "source": [
    "D = 10 * C + B\n",
    "print(f'Матрица D: \\n {D}\\n')\n",
    "print(f'Определитель матрицы D: \\n {np.linalg.det(D)}\\n')\n",
    "D_inv = np.linalg.inv(D)\n",
    "print(f'Обратная матрица D: \\n {D_inv}\\n')"
   ]
  },
  {
   "cell_type": "markdown",
   "id": "4c5bb857",
   "metadata": {},
   "source": [
    "13. Приравняйте к нулю отрицательные числа в матрице D_inv, а положительные - к единице. Убедитесь, что в матрице D_inv остались только нули и единицы. С помощью функции numpy.where, используя матрицу D_inv в качестве маски, а матрицы B и C - в качестве источников данных, получите матрицу E размером 4x4.  Элементы матрицы E, для которых соответствующий элемент матрицы D_inv равен 1, должны быть равны соответствующему элементу матрицы B, а элементы матрицы E, для которых соответствующий элемент матрицы D_inv равен 0, должны быть равны соответствующему элементу матрицы C."
   ]
  },
  {
   "cell_type": "code",
   "execution_count": 101,
   "id": "ec29b51b",
   "metadata": {},
   "outputs": [],
   "source": [
    "pos_value = D_inv > 0\n",
    "neg_value = D_inv < 0"
   ]
  },
  {
   "cell_type": "code",
   "execution_count": 102,
   "id": "8d33a8e9",
   "metadata": {},
   "outputs": [
    {
     "name": "stdout",
     "output_type": "stream",
     "text": [
      "[[0. 0. 0. 1.]\n",
      " [1. 1. 1. 0.]\n",
      " [0. 0. 0. 1.]\n",
      " [1. 1. 1. 0.]]\n"
     ]
    }
   ],
   "source": [
    "D_inv[pos_value ] = 1\n",
    "D_inv[neg_value] = 0\n",
    "print(D_inv)"
   ]
  },
  {
   "cell_type": "code",
   "execution_count": 103,
   "id": "1a30e334",
   "metadata": {},
   "outputs": [
    {
     "name": "stdout",
     "output_type": "stream",
     "text": [
      "[[  3  12  14  32]\n",
      " [ 14  50  86   6]\n",
      " [  9   2   6 212]\n",
      " [ 32 122 212   3]]\n"
     ]
    }
   ],
   "source": [
    "E = np.where(D_inv, B, C)\n",
    "print(E)"
   ]
  }
 ],
 "metadata": {
  "kernelspec": {
   "display_name": "Python 3",
   "language": "python",
   "name": "python3"
  },
  "language_info": {
   "codemirror_mode": {
    "name": "ipython",
    "version": 3
   },
   "file_extension": ".py",
   "mimetype": "text/x-python",
   "name": "python",
   "nbconvert_exporter": "python",
   "pygments_lexer": "ipython3",
   "version": "3.8.10"
  }
 },
 "nbformat": 4,
 "nbformat_minor": 5
}
